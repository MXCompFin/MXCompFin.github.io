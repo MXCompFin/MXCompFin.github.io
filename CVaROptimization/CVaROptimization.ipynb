{
 "cells": [
  {
   "cell_type": "markdown",
   "metadata": {},
   "source": [
    "# CVaR Optimization  \n",
    "### Gerardo Alcalá\n",
    "### December 2017\n",
    "Portfolio optimization, in general, is the process of choosing an allocation of resources in different assets such that this combination is best that any other for a given measure. Conditional Value-at-risk is a coherent risk measure that comes from the distribution of returns of a portfolio, and it is the weighted average of the losses exceeding the Value-at-risk of the portfolio.  \n",
    "  \n",
    "In this exercise we are going to perform optimization on a set of assets to invest in a portfolio that would minimize this Conditional Value-at-risk, as proposed in the following papers:\n",
    "> Rockafellar, R.T. and Uryasev, S., 2000. Optimization of conditional value-at-risk. Journal of risk, 2, pp.21-42.\n",
    "> Rockafellar, R.T. and Uryasev, S., 2002. Conditional value-at-risk for general loss distributions. Journal of banking & finance, 26(7), pp.1443-1471.\n",
    "\n",
    "This model is an application of stochastic programming to solve optimization problems under uncertainty."
   ]
  },
  {
   "cell_type": "markdown",
   "metadata": {},
   "source": [
    "### Packages\n",
    "\n",
    "We are going to need the following functions and packages from Python."
   ]
  },
  {
   "cell_type": "code",
   "execution_count": 1,
   "metadata": {
    "collapsed": true
   },
   "outputs": [],
   "source": [
    "from __future__ import division \n",
    "from pyomo.environ import *\n",
    "infinity = float('inf')\n",
    "from datetime import date\n",
    "import numpy as np\n",
    "import pandas as pd\n",
    "import matplotlib.pyplot as plt\n",
    "import seaborn as sns\n",
    "from pyomo.opt import SolverFactory\n",
    "opt = SolverFactory(\"glpk\")"
   ]
  },
  {
   "cell_type": "markdown",
   "metadata": {},
   "source": [
    "### The Data\n",
    "\n",
    "The data is available upon request, yet it is easy to replicate. Our data consists of the prices from 9 stocks downloaded from Yahoo Finance from January 1st, 2012 to December 31st, 2016. The csv file has stored the columns Date, Open, High, Low, Close, Adj Close, Volume and ticker for the companies Apple, Amazon, Citigroup, CVS Health Corporation, Ford, Facebook, Google, JP Morgan and Exxon Mobil."
   ]
  },
  {
   "cell_type": "code",
   "execution_count": 20,
   "metadata": {},
   "outputs": [
    {
     "name": "stdout",
     "output_type": "stream",
     "text": [
      "<class 'pandas.core.frame.DataFrame'>\n",
      "RangeIndex: 11227 entries, 0 to 11226\n",
      "Data columns (total 8 columns):\n",
      "Date         11227 non-null datetime64[ns]\n",
      "Open         11227 non-null float64\n",
      "High         11227 non-null float64\n",
      "Low          11227 non-null float64\n",
      "Close        11227 non-null float64\n",
      "Adj Close    11227 non-null float64\n",
      "Volume       11227 non-null int64\n",
      "ticker       11227 non-null object\n",
      "dtypes: datetime64[ns](1), float64(5), int64(1), object(1)\n",
      "memory usage: 701.8+ KB\n",
      "None\n"
     ]
    },
    {
     "data": {
      "text/html": [
       "<div>\n",
       "<style>\n",
       "    .dataframe thead tr:only-child th {\n",
       "        text-align: right;\n",
       "    }\n",
       "\n",
       "    .dataframe thead th {\n",
       "        text-align: left;\n",
       "    }\n",
       "\n",
       "    .dataframe tbody tr th {\n",
       "        vertical-align: top;\n",
       "    }\n",
       "</style>\n",
       "<table border=\"1\" class=\"dataframe\">\n",
       "  <thead>\n",
       "    <tr style=\"text-align: right;\">\n",
       "      <th></th>\n",
       "      <th>Date</th>\n",
       "      <th>Open</th>\n",
       "      <th>High</th>\n",
       "      <th>Low</th>\n",
       "      <th>Close</th>\n",
       "      <th>Adj Close</th>\n",
       "      <th>Volume</th>\n",
       "      <th>ticker</th>\n",
       "    </tr>\n",
       "  </thead>\n",
       "  <tbody>\n",
       "    <tr>\n",
       "      <th>0</th>\n",
       "      <td>2012-01-03</td>\n",
       "      <td>324.360352</td>\n",
       "      <td>331.916199</td>\n",
       "      <td>324.077179</td>\n",
       "      <td>330.555054</td>\n",
       "      <td>330.555054</td>\n",
       "      <td>7400800</td>\n",
       "      <td>GOOG</td>\n",
       "    </tr>\n",
       "    <tr>\n",
       "      <th>1</th>\n",
       "      <td>2012-01-04</td>\n",
       "      <td>330.366272</td>\n",
       "      <td>332.959412</td>\n",
       "      <td>328.175537</td>\n",
       "      <td>331.980774</td>\n",
       "      <td>331.980774</td>\n",
       "      <td>5765200</td>\n",
       "      <td>GOOG</td>\n",
       "    </tr>\n",
       "    <tr>\n",
       "      <th>2</th>\n",
       "      <td>2012-01-05</td>\n",
       "      <td>328.925659</td>\n",
       "      <td>329.839722</td>\n",
       "      <td>325.994720</td>\n",
       "      <td>327.375732</td>\n",
       "      <td>327.375732</td>\n",
       "      <td>6608400</td>\n",
       "      <td>GOOG</td>\n",
       "    </tr>\n",
       "    <tr>\n",
       "      <th>3</th>\n",
       "      <td>2012-01-06</td>\n",
       "      <td>327.445282</td>\n",
       "      <td>327.867523</td>\n",
       "      <td>322.795532</td>\n",
       "      <td>322.909790</td>\n",
       "      <td>322.909790</td>\n",
       "      <td>5420700</td>\n",
       "      <td>GOOG</td>\n",
       "    </tr>\n",
       "    <tr>\n",
       "      <th>4</th>\n",
       "      <td>2012-01-09</td>\n",
       "      <td>321.161163</td>\n",
       "      <td>321.409546</td>\n",
       "      <td>308.607819</td>\n",
       "      <td>309.218842</td>\n",
       "      <td>309.218842</td>\n",
       "      <td>11720900</td>\n",
       "      <td>GOOG</td>\n",
       "    </tr>\n",
       "  </tbody>\n",
       "</table>\n",
       "</div>"
      ],
      "text/plain": [
       "        Date        Open        High         Low       Close   Adj Close  \\\n",
       "0 2012-01-03  324.360352  331.916199  324.077179  330.555054  330.555054   \n",
       "1 2012-01-04  330.366272  332.959412  328.175537  331.980774  331.980774   \n",
       "2 2012-01-05  328.925659  329.839722  325.994720  327.375732  327.375732   \n",
       "3 2012-01-06  327.445282  327.867523  322.795532  322.909790  322.909790   \n",
       "4 2012-01-09  321.161163  321.409546  308.607819  309.218842  309.218842   \n",
       "\n",
       "     Volume ticker  \n",
       "0   7400800   GOOG  \n",
       "1   5765200   GOOG  \n",
       "2   6608400   GOOG  \n",
       "3   5420700   GOOG  \n",
       "4  11720900   GOOG  "
      ]
     },
     "execution_count": 20,
     "metadata": {},
     "output_type": "execute_result"
    }
   ],
   "source": [
    "stocks = pd.read_csv('C:/Users/galcala/stock_data.csv')\n",
    "stocks['Date'] = pd.to_datetime(stocks['Date'])\n",
    "print(stocks.info())\n",
    "stocks.head()"
   ]
  },
  {
   "cell_type": "markdown",
   "metadata": {},
   "source": [
    "Our first step is to transform the dataset from long to wide format, and we are only keeping the Adj. Close column, as it represents the price adjusted for dividends and splits. We are going to _clean_ our data very poorly, please, refrain from just dropping missing values. The reason we are doing this in this example is because we are more concerned on the optimization, but remember always: **Garbage IN, Garbage OUT**"
   ]
  },
  {
   "cell_type": "code",
   "execution_count": 21,
   "metadata": {},
   "outputs": [
    {
     "data": {
      "text/html": [
       "<div>\n",
       "<style>\n",
       "    .dataframe thead tr:only-child th {\n",
       "        text-align: right;\n",
       "    }\n",
       "\n",
       "    .dataframe thead th {\n",
       "        text-align: left;\n",
       "    }\n",
       "\n",
       "    .dataframe tbody tr th {\n",
       "        vertical-align: top;\n",
       "    }\n",
       "</style>\n",
       "<table border=\"1\" class=\"dataframe\">\n",
       "  <thead>\n",
       "    <tr style=\"text-align: right;\">\n",
       "      <th>ticker</th>\n",
       "      <th>AAPL</th>\n",
       "      <th>AMZN</th>\n",
       "      <th>C</th>\n",
       "      <th>CVS</th>\n",
       "      <th>F</th>\n",
       "      <th>FB</th>\n",
       "      <th>GOOG</th>\n",
       "      <th>JPM</th>\n",
       "      <th>XOM</th>\n",
       "    </tr>\n",
       "    <tr>\n",
       "      <th>Date</th>\n",
       "      <th></th>\n",
       "      <th></th>\n",
       "      <th></th>\n",
       "      <th></th>\n",
       "      <th></th>\n",
       "      <th></th>\n",
       "      <th></th>\n",
       "      <th></th>\n",
       "      <th></th>\n",
       "    </tr>\n",
       "  </thead>\n",
       "  <tbody>\n",
       "    <tr>\n",
       "      <th>2012-05-18</th>\n",
       "      <td>67.921494</td>\n",
       "      <td>213.850006</td>\n",
       "      <td>25.269936</td>\n",
       "      <td>40.429947</td>\n",
       "      <td>7.953341</td>\n",
       "      <td>38.230000</td>\n",
       "      <td>298.260101</td>\n",
       "      <td>28.877260</td>\n",
       "      <td>68.499329</td>\n",
       "    </tr>\n",
       "    <tr>\n",
       "      <th>2012-05-21</th>\n",
       "      <td>71.878601</td>\n",
       "      <td>218.110001</td>\n",
       "      <td>25.503115</td>\n",
       "      <td>40.839432</td>\n",
       "      <td>8.104302</td>\n",
       "      <td>34.029999</td>\n",
       "      <td>305.070801</td>\n",
       "      <td>28.032232</td>\n",
       "      <td>68.978592</td>\n",
       "    </tr>\n",
       "    <tr>\n",
       "      <th>2012-05-22</th>\n",
       "      <td>71.326653</td>\n",
       "      <td>215.330002</td>\n",
       "      <td>26.154053</td>\n",
       "      <td>40.894028</td>\n",
       "      <td>8.096357</td>\n",
       "      <td>31.000000</td>\n",
       "      <td>298.458801</td>\n",
       "      <td>29.325623</td>\n",
       "      <td>68.902931</td>\n",
       "    </tr>\n",
       "    <tr>\n",
       "      <th>2012-05-23</th>\n",
       "      <td>73.067009</td>\n",
       "      <td>217.279999</td>\n",
       "      <td>26.377504</td>\n",
       "      <td>40.757545</td>\n",
       "      <td>8.271155</td>\n",
       "      <td>32.000000</td>\n",
       "      <td>302.760834</td>\n",
       "      <td>29.541199</td>\n",
       "      <td>68.978592</td>\n",
       "    </tr>\n",
       "    <tr>\n",
       "      <th>2012-05-24</th>\n",
       "      <td>72.395958</td>\n",
       "      <td>215.240005</td>\n",
       "      <td>25.901445</td>\n",
       "      <td>41.103317</td>\n",
       "      <td>8.414173</td>\n",
       "      <td>33.029999</td>\n",
       "      <td>299.879578</td>\n",
       "      <td>29.291142</td>\n",
       "      <td>69.457825</td>\n",
       "    </tr>\n",
       "    <tr>\n",
       "      <th>2016-12-23</th>\n",
       "      <td>114.675896</td>\n",
       "      <td>760.590027</td>\n",
       "      <td>60.115902</td>\n",
       "      <td>77.149139</td>\n",
       "      <td>11.799386</td>\n",
       "      <td>117.269997</td>\n",
       "      <td>789.909973</td>\n",
       "      <td>85.108040</td>\n",
       "      <td>87.383606</td>\n",
       "    </tr>\n",
       "    <tr>\n",
       "      <th>2016-12-27</th>\n",
       "      <td>115.404190</td>\n",
       "      <td>771.400024</td>\n",
       "      <td>60.214474</td>\n",
       "      <td>77.295364</td>\n",
       "      <td>11.733097</td>\n",
       "      <td>118.010002</td>\n",
       "      <td>791.549988</td>\n",
       "      <td>85.186241</td>\n",
       "      <td>87.422142</td>\n",
       "    </tr>\n",
       "    <tr>\n",
       "      <th>2016-12-28</th>\n",
       "      <td>114.912109</td>\n",
       "      <td>772.130005</td>\n",
       "      <td>59.179520</td>\n",
       "      <td>77.051659</td>\n",
       "      <td>11.600519</td>\n",
       "      <td>116.919998</td>\n",
       "      <td>785.049988</td>\n",
       "      <td>84.570305</td>\n",
       "      <td>86.988647</td>\n",
       "    </tr>\n",
       "    <tr>\n",
       "      <th>2016-12-29</th>\n",
       "      <td>114.882584</td>\n",
       "      <td>765.150024</td>\n",
       "      <td>58.528980</td>\n",
       "      <td>77.012657</td>\n",
       "      <td>11.581578</td>\n",
       "      <td>116.349998</td>\n",
       "      <td>782.789978</td>\n",
       "      <td>83.973915</td>\n",
       "      <td>87.036804</td>\n",
       "    </tr>\n",
       "    <tr>\n",
       "      <th>2016-12-30</th>\n",
       "      <td>113.986984</td>\n",
       "      <td>749.869995</td>\n",
       "      <td>58.578266</td>\n",
       "      <td>76.924927</td>\n",
       "      <td>11.486880</td>\n",
       "      <td>115.050003</td>\n",
       "      <td>771.820007</td>\n",
       "      <td>84.364990</td>\n",
       "      <td>86.950111</td>\n",
       "    </tr>\n",
       "  </tbody>\n",
       "</table>\n",
       "</div>"
      ],
      "text/plain": [
       "ticker            AAPL        AMZN          C        CVS          F  \\\n",
       "Date                                                                  \n",
       "2012-05-18   67.921494  213.850006  25.269936  40.429947   7.953341   \n",
       "2012-05-21   71.878601  218.110001  25.503115  40.839432   8.104302   \n",
       "2012-05-22   71.326653  215.330002  26.154053  40.894028   8.096357   \n",
       "2012-05-23   73.067009  217.279999  26.377504  40.757545   8.271155   \n",
       "2012-05-24   72.395958  215.240005  25.901445  41.103317   8.414173   \n",
       "2016-12-23  114.675896  760.590027  60.115902  77.149139  11.799386   \n",
       "2016-12-27  115.404190  771.400024  60.214474  77.295364  11.733097   \n",
       "2016-12-28  114.912109  772.130005  59.179520  77.051659  11.600519   \n",
       "2016-12-29  114.882584  765.150024  58.528980  77.012657  11.581578   \n",
       "2016-12-30  113.986984  749.869995  58.578266  76.924927  11.486880   \n",
       "\n",
       "ticker              FB        GOOG        JPM        XOM  \n",
       "Date                                                      \n",
       "2012-05-18   38.230000  298.260101  28.877260  68.499329  \n",
       "2012-05-21   34.029999  305.070801  28.032232  68.978592  \n",
       "2012-05-22   31.000000  298.458801  29.325623  68.902931  \n",
       "2012-05-23   32.000000  302.760834  29.541199  68.978592  \n",
       "2012-05-24   33.029999  299.879578  29.291142  69.457825  \n",
       "2016-12-23  117.269997  789.909973  85.108040  87.383606  \n",
       "2016-12-27  118.010002  791.549988  85.186241  87.422142  \n",
       "2016-12-28  116.919998  785.049988  84.570305  86.988647  \n",
       "2016-12-29  116.349998  782.789978  83.973915  87.036804  \n",
       "2016-12-30  115.050003  771.820007  84.364990  86.950111  "
      ]
     },
     "execution_count": 21,
     "metadata": {},
     "output_type": "execute_result"
    }
   ],
   "source": [
    "serie_stocks = stocks.pivot(index='Date', columns='ticker', values='Adj Close')\n",
    "serie_stocks=serie_stocks.dropna()\n",
    "pd.concat([serie_stocks.head(),serie_stocks.tail()])"
   ]
  },
  {
   "cell_type": "markdown",
   "metadata": {},
   "source": [
    "From our previous dataset we can compute our daily returns. To visualize our stocks, we can also plot their risk measured by the standard deviation (annualized) to their mean returns (annualized)."
   ]
  },
  {
   "cell_type": "code",
   "execution_count": 22,
   "metadata": {},
   "outputs": [
    {
     "data": {
      "image/png": "[encoded data removed]",
      "text/plain": [
       "<matplotlib.figure.Figure at 0x1d62e429898>"
      ]
     },
     "metadata": {},
     "output_type": "display_data"
    }
   ],
   "source": [
    "ret30dias = serie_stocks / serie_stocks.shift(1) - 1\n",
    "ret30dias=ret30dias.dropna()\n",
    "retornos = np.mean(ret30dias,axis=0)*360\n",
    "riesgo = ret30dias.apply(np.std,axis=0)*sqrt(252)\n",
    "plt.scatter(riesgo, retornos,alpha =0.2)\n",
    "plt.title(\"Risk and Return\", weight=\"bold\", size=15, color = \"0.3\")\n",
    "plt.xlabel(\"Risk\", weight=\"bold\", size=12)\n",
    "plt.ylabel(\"Return\", weight=\"bold\", size=12)\n",
    "for i, txt in enumerate(riesgo.index):\n",
    "    plt.annotate(txt, (riesgo[i],retornos[i]))\n",
    "\n",
    "plt.show()"
   ]
  },
  {
   "cell_type": "markdown",
   "metadata": {},
   "source": [
    "### The Model\n",
    "\n",
    "The data is available upon request, yet it is easy to replicate. Our data consists of the prices from 9 stocks downloaded from Yahoo Finance from January 1st, 2012 to December 31st, 2016. The csv file has stored the columns Date, Open, High, Low, Close, Adj Close, Volume and ticker for the companies Apple, Amazon, Citigroup, CVS Health Corporation, Ford, Facebook, Google, JP Morgan and Exxon Mobil.\n",
    "\n",
    "\\begin{align*}\n",
    "\\underset{x_{ij}}{\\min} & \\quad \\alpha + \\frac{1}{q(1-\\beta)} \\sum_{k=1}^{q}u_{k}\\\\\n",
    "\\text{s.t.:}&\\\\\n",
    "  & u_{k} \\geq 0 \\quad \\forall k\\\\\n",
    "  & \\alpha + x^{T}y_{k} +  u_{k} \\geq 0 \\quad \\forall k \\\\\n",
    "  & \\sum_{i=1}^{N} x_{i} = 1 \\quad \n",
    "\\end{align*}\n"
   ]
  },
  {
   "cell_type": "markdown",
   "metadata": {},
   "source": [
    "where $u_k$ are ancillary variables that help us find the optimal weights $x_i$ for each asset $i$, $q$ es a parameter that represents the number of escenarios we are simulating with probability $\\frac{1}{q}$. For each of these scenarios we obtain our vector of realized returns $y_k$. The beauty of this implementation is that $\\alpha$ is our Value-at-Risk."
   ]
  },
  {
   "cell_type": "markdown",
   "metadata": {},
   "source": [
    "### The implementation\n",
    "\n",
    "We are going to use Pyomo to solve our problem. Pyomo is an open-source optimization language based in Python. The following lines are used to define our simulated vector $y_k$ for each $k$. the number of simulations is $\\text{n_sc}$."
   ]
  },
  {
   "cell_type": "code",
   "execution_count": 95,
   "metadata": {},
   "outputs": [],
   "source": [
    "n_sc = 1500\n",
    "assets=len(retornos)\n",
    "muestra = np.random.choice(len(ret30dias), size=n_sc, replace=True, p=None)\n",
    "simulaciones = np.array(ret30dias.iloc[muestra,])\n",
    "beta = 0.95"
   ]
  },
  {
   "cell_type": "code",
   "execution_count": 96,
   "metadata": {
    "collapsed": true
   },
   "outputs": [],
   "source": [
    "model = ConcreteModel()\n",
    "    \n",
    "model.escenarios = RangeSet(1,n_sc)\n",
    "model.N = RangeSet(1,assets)\n",
    "    \n",
    "model.weights = Var(model.N,within=NonNegativeReals)\n",
    "model.alpha = Var()\n",
    "model.u = Var(model.escenarios,within=NonNegativeReals)\n",
    "    \n",
    "def _Obj(model):\n",
    "    return model.alpha + (1/(1-beta))*sum(model.u[k]*(1/n_sc) for k in model.escenarios)\n",
    "model.Obj = Objective(rule=_Obj, sense = minimize)\n",
    "    \n",
    "def _nonNegative(model,escenario):\n",
    "    return (model.alpha + model.u[escenario] + sum(model.weights[i]*simulaciones[escenario-1,i-1] for i in model.N)) >= 0\n",
    "model.nonNegative = Constraint(model.escenarios,rule=_nonNegative)\n",
    "\n",
    "def _fullyInvested(model):\n",
    "    return sum(model.weights[activos] for activos in model.N) == 1\n",
    "model.fullyInvested = Constraint(rule=_fullyInvested)\n"
   ]
  },
  {
   "cell_type": "markdown",
   "metadata": {},
   "source": [
    "The last lines define an Optimization Model like described above. It is worth noticing that we have used an empirical joint distribution of asset returns: the observed returns in our dataset. What we have done here is take a sample, with replacement, of these results.\n",
    "\n",
    "Let us print our solution for our model:"
   ]
  },
  {
   "cell_type": "code",
   "execution_count": 56,
   "metadata": {},
   "outputs": [
    {
     "name": "stdout",
     "output_type": "stream",
     "text": [
      "# ==========================================================\n",
      "# = Solver Results                                         =\n",
      "# ==========================================================\n",
      "# ----------------------------------------------------------\n",
      "#   Problem Information\n",
      "# ----------------------------------------------------------\n",
      "Problem: \n",
      "- Name: unknown\n",
      "  Lower bound: 0.0184610487896888\n",
      "  Upper bound: 0.0184610487896888\n",
      "  Number of objectives: 1\n",
      "  Number of constraints: 1502\n",
      "  Number of variables: 1511\n",
      "  Number of nonzeros: 16430\n",
      "  Sense: minimize\n",
      "# ----------------------------------------------------------\n",
      "#   Solver Information\n",
      "# ----------------------------------------------------------\n",
      "Solver: \n",
      "- Status: ok\n",
      "  Termination condition: optimal\n",
      "  Statistics: \n",
      "    Branch and bound: \n",
      "      Number of bounded subproblems: 0\n",
      "      Number of created subproblems: 0\n",
      "  Error rc: 0\n",
      "  Time: 0.18443632125854492\n",
      "# ----------------------------------------------------------\n",
      "#   Solution Information\n",
      "# ----------------------------------------------------------\n",
      "Solution: \n",
      "- number of solutions: 0\n",
      "  number of solutions displayed: 0\n"
     ]
    }
   ],
   "source": [
    "results = opt.solve(model)\n",
    "results.write()"
   ]
  },
  {
   "cell_type": "markdown",
   "metadata": {},
   "source": [
    "The output above is the status of the solver. We have found an optimal solution. Let's see what it tells us:"
   ]
  },
  {
   "cell_type": "code",
   "execution_count": 76,
   "metadata": {},
   "outputs": [
    {
     "name": "stdout",
     "output_type": "stream",
     "text": [
      "Optimal Weights: \n",
      "AAPL : 6.15 %\n",
      "AMZN : 1.0 %\n",
      "C : 0.0 %\n",
      "CVS : 20.28 %\n",
      "F : 1.96 %\n",
      "FB : 0.0 %\n",
      "GOOG : 21.68 %\n",
      "JPM : 2.71 %\n",
      "XOM : 46.23 %\n",
      "-----------------------------\n",
      "\n",
      "VaR (alpha) from our model: \n",
      "- 1.32 %\n"
     ]
    }
   ],
   "source": [
    "pesos = []\n",
    "\n",
    "print(\"Optimal Weights: \")\n",
    "for i,p in enumerate(model.weights):\n",
    "    print(riesgo.index[i],\":\",round(model.weights[p].value*10000)/100,\"%\")\n",
    "    pesos.append(model.weights[p].value)\n",
    "print(\"-----------------------------\")   \n",
    "print(\"\")  \n",
    "print(\"VaR (alpha) from our model: \")  \n",
    "for p in model.alpha:\n",
    "    print(\"-\",np.round(model.alpha[p].value*10000)/100,\"%\")\n",
    "    var = model.alpha[p].value"
   ]
  },
  {
   "cell_type": "markdown",
   "metadata": {},
   "source": [
    "Our optimization results in a portfolio with no allocation in Citi and Facebook and a small participation in Amazon, Ford and JP Morgan. Let us now contrast the distribution of our portfolio using these weights vs an equally weighted portfolio."
   ]
  },
  {
   "cell_type": "code",
   "execution_count": 94,
   "metadata": {},
   "outputs": [
    {
     "name": "stdout",
     "output_type": "stream",
     "text": [
      "Value at Risk 95% for optimal weights\n",
      "-1.3 %\n",
      "Conditional Value at Risk:\n",
      "-1.84 %\n"
     ]
    },
    {
     "data": {
      "image/png": "[encoded data removed]",
      "text/plain": [
       "<matplotlib.figure.Figure at 0x1d62f5d4e48>"
      ]
     },
     "metadata": {},
     "output_type": "display_data"
    },
    {
     "name": "stdout",
     "output_type": "stream",
     "text": [
      "\n",
      "Value at Risk 95% for equally weighted\n",
      "-1.45 %\n",
      "Conditional Value at Risk:\n",
      "-2.13 %\n"
     ]
    },
    {
     "data": {
      "image/png": "[encoded data removed]",
      "text/plain": [
       "<matplotlib.figure.Figure at 0x1d62eac3048>"
      ]
     },
     "metadata": {},
     "output_type": "display_data"
    }
   ],
   "source": [
    "pesos = np.array(pesos)\n",
    "backtest = pd.Series(ret30dias.dot(pesos))\n",
    "equal = pd.Series(ret30dias.dot(np.ones(assets)/assets))\n",
    "\n",
    "\n",
    "\n",
    "valores = backtest.sort_values().reset_index()\n",
    "valores.columns = ['indice','retorno']\n",
    "print(\"Value at Risk 95% for optimal weights\")\n",
    "print(round(valores.iloc[75,1]*10000)/100,\"%\")\n",
    "print(\"Conditional Value at Risk:\")\n",
    "print(round(np.mean(valores.iloc[:75,1])*10000)/100,\"%\")\n",
    "pd.Series(simulaciones.dot(pesos)).hist(bins=150,normed=1, alpha=0.75)\n",
    "plt.title(\"Return Distribution Optimal Weights\", weight=\"bold\", size=15, color = \"0.3\")\n",
    "plt.xlabel(\"Returns\", weight=\"bold\", size=12)\n",
    "plt.ylabel(\"Frequency\", weight=\"bold\", size=12)\n",
    "plt.xlim([-.06,0.06])\n",
    "plt.ylim([0,80])\n",
    "plt.axvline(x=valores.iloc[75,1],color=\"black\",linestyle=\"dashed\",linewidth=1)\n",
    "plt.annotate(\"Expected Shortfall\", ('-.05',20))\n",
    "plt.annotate(round(np.mean(valores.iloc[:75,1])*10000)/100, ('-.05',15))\n",
    "plt.show()\n",
    "print(\"\")\n",
    "valores = equal.sort_values().reset_index()\n",
    "valores.columns = ['indice','retorno']\n",
    "print(\"Value at Risk 95% for equally weighted\")\n",
    "print(round(valores.iloc[75,1]*10000)/100,\"%\")\n",
    "print(\"Conditional Value at Risk:\")\n",
    "print(round(np.mean(valores.iloc[:75,1])*10000)/100,\"%\")\n",
    "\n",
    "pd.Series(equal).hist(bins=150, color=\"red\",normed=1)\n",
    "plt.title(\"Return Distribution Equally Weighted\", weight=\"bold\", size=15, color = \"0.3\")\n",
    "plt.xlabel(\"Returns\", weight=\"bold\", size=12)\n",
    "plt.ylabel(\"Frequency\", weight=\"bold\", size=12)\n",
    "plt.xlim([-.06,0.06])\n",
    "plt.ylim([0,80])\n",
    "plt.axvline(x=valores.iloc[75,1],linestyle=\"dashed\",linewidth=1,color = \"black\")\n",
    "plt.annotate(\"Expected Shortfall\", ('-.05',20))\n",
    "plt.annotate(round(np.mean(valores.iloc[:75,1])*10000)/100, ('-.05',15))\n",
    "plt.show()"
   ]
  },
  {
   "cell_type": "markdown",
   "metadata": {},
   "source": [
    "As expected, we find a portfolio which has a distribution with lighter left tail. This approach is attractive to study as VaR and CVaR are metrics which most portfolio managers use to monitor their risk exposure."
   ]
  },
  {
   "cell_type": "markdown",
   "metadata": {},
   "source": [
    "## Final Remarks\n",
    "\n",
    "We can perform a better model if we obtain more data. Also, from a risk perspective, maybe over-sampling periods of high volatility would help to study portfolio compositions with higher resilience in such periods of time. I would always recommend to clean the data properly, and keeping an \"out of sample\" timeframe to analyze ex-post distributions is advised."
   ]
  },
  {
   "cell_type": "code",
   "execution_count": null,
   "metadata": {
    "collapsed": true
   },
   "outputs": [],
   "source": []
  }
 ],
 "metadata": {
  "kernelspec": {
   "display_name": "Python 3",
   "language": "python",
   "name": "python3"
  },
  "language_info": {
   "codemirror_mode": {
    "name": "ipython",
    "version": 3
   },
   "file_extension": ".py",
   "mimetype": "text/x-python",
   "name": "python",
   "nbconvert_exporter": "python",
   "pygments_lexer": "ipython3",
   "version": "3.6.1"
  }
 },
 "nbformat": 4,
 "nbformat_minor": 2
}
