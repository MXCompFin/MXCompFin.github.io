{
 "cells": [
  {
   "cell_type": "markdown",
   "metadata": {},
   "source": [
    "## Getting data from Google Finance\n",
    "\n",
    "In this lecture we'll create a python code that can be used to download historical prices from [Google Finance](http://finance.google.com/finance).\n",
    "\n",
    "The task is a simple one, we just need to find the symbol of the stock and the exchange, and our program will create the appropiate URL ;).\n",
    "\n",
    "**Note**\n",
    "\n",
    "Seems that you can't download historical data for currencies, this method works only for equity instruments.\n",
    "\n",
    "So let's get started!\n",
    "\n",
    "### Requirements\n",
    "\n",
    "For you to follow this lecture please make sure that you have the following python package installed:\n",
    "\n",
    "* pandas (I used version 0.18.0 for this lecture).\n",
    "\n"
   ]
  },
  {
   "cell_type": "markdown",
   "metadata": {},
   "source": [
    "### Explaining the URL (The theory)\n",
    "\n",
    "The URL that we'll need, looks something like this:\n",
    "\n",
    "http://finance.google.com/finance/historical?q=BMV:AMXL&startdate=Jan+3+2000&enddate=Nov+11+2017&output=csv\n",
    "\n",
    "At first, this might be daunting but the only parts you have to worry about are:\n",
    "\n",
    "* **q=BMV:AMXL** this part makes reference to the exchange where our stock is listed (in this case Bolsa Mexicana de Valores - Mexican Stock Exchange) and the symbol for identifying the company (in this case America Movil Serie L)\n",
    "\n",
    "* **startdate=Jan+3+2000**\n",
    "\n",
    "* **enddate=Nov+11+2017** \n",
    "\n",
    "I think there is no need for me to explain you the last two parameters you're smart enough to figure out what they are ;).\n",
    "\n",
    "The remaining parts of the URL are kept as they are, so basically our code only needs the above three parameters and no more. \n",
    "\n",
    "### And finally the code (The practice)\n",
    "\n"
   ]
  },
  {
   "cell_type": "code",
   "execution_count": 21,
   "metadata": {
    "collapsed": false
   },
   "outputs": [],
   "source": [
    "import pandas as pd\n",
    "\n",
    "def getGooglePrices(exchanges,symbols,startDate,endDate):\n",
    "    '''\n",
    "    Gets historical data from Google Finance\n",
    "    Parameters:\n",
    "    \n",
    "    exchanges = list of the exchanges according to the nomenclature\n",
    "    used by Google Finance\n",
    "    \n",
    "    symbols = list of stock symbols according to the symbols from\n",
    "    Google Finance (Same length) as exchanges\n",
    "    \n",
    "    The correspondance must have the form Ex1:Sym1, Ex2:Sym2,...etc\n",
    "    \n",
    "    startDate = Start date in format Mmm+dd+yyyy\n",
    "    \n",
    "    endDate = End date in format Mmm+dd+yyyy\n",
    "\n",
    "    Output\n",
    "    \n",
    "    No output, the data is stored in the current working directory\n",
    "    as CSV file.\n",
    "    \n",
    "    '''\n",
    "    #Declare the static parts of the URL\n",
    "    urlStatic1=\"http://finance.google.com/finance/historical?q=\"\n",
    "    urlStatic2=\"&output=csv\"\n",
    "\n",
    "    #Create the dynamic parts of the url and downloads a file per symbol\n",
    "    \n",
    "    for i in range(0,len(exchanges)):\n",
    "        quote=exchanges[i] + \":\" + symbols[i]\n",
    "        url=urlStatic1 + quote + \"&startdate=\" + startDate\\\n",
    "        + \"&enddate=\" + endDate + urlStatic2\n",
    "            \n",
    "        #Read the data from the url\n",
    "        data=pd.read_csv(url)\n",
    "            \n",
    "        #Save it in the current directory\n",
    "        #Removes the column index\n",
    "        fileName=exchanges[i] + \"_\" + symbols[i] + \".csv\"\n",
    "        data.to_csv(fileName,index=False)\n",
    "            \n",
    "            "
   ]
  },
  {
   "cell_type": "markdown",
   "metadata": {},
   "source": [
    "### Testing the code\n",
    "\n",
    "Now let's test our code with the following examples"
   ]
  },
  {
   "cell_type": "code",
   "execution_count": 23,
   "metadata": {
    "collapsed": false
   },
   "outputs": [],
   "source": [
    "exchanges=[\"BMV\",\"BMV\",\"NYSEARCA\"]\n",
    "symbols=[\"AMXL\",\"KOFL\",\"SPY\"]\n",
    "startDate=\"Jan+01+2017\"\n",
    "endDate=\"Nov+10+2017\"\n",
    "getGooglePrices(exchanges,symbols,startDate,endDate)"
   ]
  },
  {
   "cell_type": "markdown",
   "metadata": {},
   "source": [
    "The above lines should have created 3 CSV files each containing the historical prices from January 3rd 2017 (01 and 02 were not working days) up to and including November 10th 2017.\n",
    "\n",
    "Try with your own symbols."
   ]
  },
  {
   "cell_type": "markdown",
   "metadata": {},
   "source": [
    "### Conclusion\n",
    "\n",
    "As you can see, the code has not error handlers so make sure that the symbols and exchanges you enter are the correct ones.\n",
    "\n",
    "Also you can implement a little function so you can read these variables from a csv file avoiding you having to type them manually, but I won't take all the fun from you :)\n",
    "\n",
    "Hope you find the above useful\n",
    "\n",
    "Thanks for reading!\n",
    "\n",
    "[Home Page](https://davidrmh.github.io/)"
   ]
  }
 ],
 "metadata": {
  "kernelspec": {
   "display_name": "Python 2",
   "language": "python",
   "name": "python2"
  },
  "language_info": {
   "codemirror_mode": {
    "name": "ipython",
    "version": 2
   },
   "file_extension": ".py",
   "mimetype": "text/x-python",
   "name": "python",
   "nbconvert_exporter": "python",
   "pygments_lexer": "ipython2",
   "version": "2.7.11"
  }
 },
 "nbformat": 4,
 "nbformat_minor": 0
}
